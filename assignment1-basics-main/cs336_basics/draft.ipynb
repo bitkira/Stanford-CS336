{
 "cells": [
  {
   "cell_type": "code",
   "execution_count": 2,
   "id": "576037d6",
   "metadata": {},
   "outputs": [
    {
     "name": "stdout",
     "output_type": "stream",
     "text": [
      "\n",
      "原向量:\n",
      " tensor([ 0, 20, 30])\n",
      "从向量创建的对角矩阵:\n",
      " tensor([[ 0,  0,  0],\n",
      "        [ 0, 20,  0],\n",
      "        [ 0,  0, 30]])\n"
     ]
    }
   ],
   "source": [
    "import torch\n",
    "# 示例 2: 从向量创建对角矩阵 (返回2D tensor)\n",
    "vector = torch.tensor([0, 20, 30])\n",
    "diagonal_matrix = torch.diag(vector)\n",
    "print(\"\\n原向量:\\n\", vector)\n",
    "print(\"从向量创建的对角矩阵:\\n\", diagonal_matrix)\n",
    "# 输出:\n",
    "# tensor([[10,  0,  0],\n",
    "#         [ 0, 20,  0],\n",
    "#         [ 0,  0, 30]])"
   ]
  },
  {
   "cell_type": "code",
   "execution_count": null,
   "id": "1362e8c3",
   "metadata": {},
   "outputs": [],
   "source": []
  }
 ],
 "metadata": {
  "kernelspec": {
   "display_name": "MacPytorch",
   "language": "python",
   "name": "python3"
  },
  "language_info": {
   "codemirror_mode": {
    "name": "ipython",
    "version": 3
   },
   "file_extension": ".py",
   "mimetype": "text/x-python",
   "name": "python",
   "nbconvert_exporter": "python",
   "pygments_lexer": "ipython3",
   "version": "3.12.9"
  }
 },
 "nbformat": 4,
 "nbformat_minor": 5
}
